{
 "cells": [
  {
   "cell_type": "code",
   "execution_count": 12,
   "metadata": {},
   "outputs": [],
   "source": [
    "'''\n",
    "What are Functions???\n",
    "\n",
    "Functions are block of code which will be executed when they will be called or referred by any other block of code or even\n",
    "in single line they can be called to execute them. They may or may not accept parameters/arguments.\n",
    "'''\n",
    "\n",
    "#Creating Functions???\n",
    "def frst_func():\n",
    "    print('Hello All this is my first Function!!!!')"
   ]
  },
  {
   "cell_type": "code",
   "execution_count": 13,
   "metadata": {},
   "outputs": [
    {
     "name": "stdout",
     "output_type": "stream",
     "text": [
      "Hello All this is my first Function!!!!\n"
     ]
    }
   ],
   "source": [
    "#way to call a function\n",
    "\n",
    "frst_func()"
   ]
  },
  {
   "cell_type": "code",
   "execution_count": 15,
   "metadata": {},
   "outputs": [
    {
     "name": "stdout",
     "output_type": "stream",
     "text": [
      "The Company Mail Id assigned to User is :\n",
      "\n",
      "Rahul.Tiwari25@microsoft.com\n"
     ]
    }
   ],
   "source": [
    "#Print the company's Id as per the User's First Name and Last Name Entered??\n",
    "\n",
    "def crt_emailid(fname,lname):\n",
    "    print('The Company Mail Id assigned to User is :')\n",
    "    print('\\n'+fname+'.'+lname+'@microsoft.com')\n",
    "    \n",
    "\n",
    "crt_emailid('Rahul','Tiwari25')"
   ]
  },
  {
   "cell_type": "code",
   "execution_count": 18,
   "metadata": {},
   "outputs": [
    {
     "data": {
      "text/plain": [
       "4"
      ]
     },
     "execution_count": 18,
     "metadata": {},
     "output_type": "execute_result"
    }
   ],
   "source": [
    "#Write a function that returns the lesser of two given numbers if both numbers are even,\n",
    "#but returns the greater if one or both numbers are odd.\n",
    "\n",
    "def lesser_of_two_evens(a,b):\n",
    "    if a%2 == 0 and b%2 == 0:\n",
    "        return min(a,b)\n",
    "    else:\n",
    "        return max(a,b)\n",
    "\n",
    "lesser_of_two_evens(8,4)"
   ]
  },
  {
   "cell_type": "code",
   "execution_count": 22,
   "metadata": {},
   "outputs": [
    {
     "name": "stdout",
     "output_type": "stream",
     "text": [
      "I am from US\n",
      "I am from India\n",
      "I am from India\n",
      "I am from UK\n"
     ]
    }
   ],
   "source": [
    "#Default Value Assigned for Function:\n",
    "\n",
    "def my_func(country = \"India\"):\n",
    "    print(\"I am from \" + country)\n",
    "\n",
    "my_func(\"US\")\n",
    "my_func(\"India\")\n",
    "my_func()\n",
    "my_func(\"UK\")"
   ]
  },
  {
   "cell_type": "code",
   "execution_count": 23,
   "metadata": {},
   "outputs": [
    {
     "name": "stdout",
     "output_type": "stream",
     "text": [
      "apple\n",
      "banana\n",
      "cherry\n",
      "guava\n"
     ]
    }
   ],
   "source": [
    "# Passing a List as an Argument????\n",
    "\n",
    "def my_function(food):\n",
    "    for x in food:\n",
    "        print(x)\n",
    "\n",
    "fruits = [\"apple\", \"banana\", \"cherry\",'guava']\n",
    "\n",
    "my_function(fruits)"
   ]
  },
  {
   "cell_type": "code",
   "execution_count": 25,
   "metadata": {},
   "outputs": [
    {
     "data": {
      "text/plain": [
       "810"
      ]
     },
     "execution_count": 25,
     "metadata": {},
     "output_type": "execute_result"
    }
   ],
   "source": [
    "#Return Statement: using return keyword\n",
    "\n",
    "def my_func(x):\n",
    "    return 9 * x\n",
    "\n",
    "my_func(90)"
   ]
  },
  {
   "cell_type": "code",
   "execution_count": 29,
   "metadata": {},
   "outputs": [
    {
     "data": {
      "text/plain": [
       "True"
      ]
     },
     "execution_count": 29,
     "metadata": {},
     "output_type": "execute_result"
    }
   ],
   "source": [
    "#INTERVIEW QUESTION????\n",
    "\n",
    "#Write a function takes a two-word string and returns True if both words begin with same letter???\n",
    "\n",
    "# USED: split(?) function splits the string into separate values and stores it as a list datatype.\n",
    "\n",
    "\n",
    "def animal_crackers(text):\n",
    "    wordlist = text.split()\n",
    "    return wordlist[0][0] == wordlist[1][0]\n",
    "    #print(wordlist[1][0])\n",
    "\n",
    "animal_crackers('Hello How')"
   ]
  },
  {
   "cell_type": "code",
   "execution_count": null,
   "metadata": {},
   "outputs": [],
   "source": []
  }
 ],
 "metadata": {
  "kernelspec": {
   "display_name": "Python 3",
   "language": "python",
   "name": "python3"
  },
  "language_info": {
   "codemirror_mode": {
    "name": "ipython",
    "version": 3
   },
   "file_extension": ".py",
   "mimetype": "text/x-python",
   "name": "python",
   "nbconvert_exporter": "python",
   "pygments_lexer": "ipython3",
   "version": "3.7.6"
  }
 },
 "nbformat": 4,
 "nbformat_minor": 4
}
