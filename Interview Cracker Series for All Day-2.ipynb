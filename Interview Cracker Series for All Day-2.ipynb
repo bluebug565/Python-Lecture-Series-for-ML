{
 "cells": [
  {
   "cell_type": "code",
   "execution_count": 87,
   "metadata": {},
   "outputs": [
    {
     "ename": "TypeError",
     "evalue": "'tuple' object does not support item assignment",
     "output_type": "error",
     "traceback": [
      "\u001b[1;31m---------------------------------------------------------------------------\u001b[0m",
      "\u001b[1;31mTypeError\u001b[0m                                 Traceback (most recent call last)",
      "\u001b[1;32m<ipython-input-87-2fb96e703acc>\u001b[0m in \u001b[0;36m<module>\u001b[1;34m\u001b[0m\n\u001b[0;32m      7\u001b[0m \u001b[1;33m\u001b[0m\u001b[0m\n\u001b[0;32m      8\u001b[0m \u001b[0mtpl\u001b[0m \u001b[1;33m=\u001b[0m \u001b[1;33m(\u001b[0m\u001b[1;36m1\u001b[0m\u001b[1;33m,\u001b[0m\u001b[1;36m2\u001b[0m\u001b[1;33m,\u001b[0m\u001b[1;36m4\u001b[0m\u001b[1;33m,\u001b[0m\u001b[1;34m'RT'\u001b[0m\u001b[1;33m,\u001b[0m\u001b[1;34m'Name'\u001b[0m\u001b[1;33m)\u001b[0m\u001b[1;33m\u001b[0m\u001b[1;33m\u001b[0m\u001b[0m\n\u001b[1;32m----> 9\u001b[1;33m \u001b[0mtpl\u001b[0m\u001b[1;33m[\u001b[0m\u001b[1;36m3\u001b[0m\u001b[1;33m]\u001b[0m \u001b[1;33m=\u001b[0m \u001b[1;34m'AB'\u001b[0m\u001b[1;33m\u001b[0m\u001b[1;33m\u001b[0m\u001b[0m\n\u001b[0m",
      "\u001b[1;31mTypeError\u001b[0m: 'tuple' object does not support item assignment"
     ]
    }
   ],
   "source": [
    "#Differentiate between lists and tuples?\n",
    "#Ans - \n",
    "\n",
    "lst = [1,2,4,'RT','Name is Rahul']\n",
    "#lst[3] = 'AB'\n",
    "#lst\n",
    "\n",
    "tpl = (1,2,4,'RT','Name')\n",
    "tpl[3] = 'AB'"
   ]
  },
  {
   "cell_type": "code",
   "execution_count": 89,
   "metadata": {},
   "outputs": [
    {
     "data": {
      "text/plain": [
       "'Name'"
      ]
     },
     "execution_count": 89,
     "metadata": {},
     "output_type": "execute_result"
    }
   ],
   "source": [
    "# Concept of Negative Indexing?\n",
    "\n",
    "#lst[-1] \n",
    "\n",
    "tpl[-1]"
   ]
  },
  {
   "cell_type": "code",
   "execution_count": 95,
   "metadata": {},
   "outputs": [
    {
     "data": {
      "text/plain": [
       "'hELLO wORLD I AM A pYTHOn bEGINNEr'"
      ]
     },
     "execution_count": 95,
     "metadata": {},
     "output_type": "execute_result"
    }
   ],
   "source": [
    "#How would you convert a string into lowercase,uppercase,capitalize,title,swapcase format??\n",
    "\n",
    "st = 'Hello World i am a PythoN BeginneR'\n",
    "st.swapcase()\n"
   ]
  },
  {
   "cell_type": "code",
   "execution_count": 97,
   "metadata": {},
   "outputs": [
    {
     "name": "stdout",
     "output_type": "stream",
     "text": [
      "0\n",
      "1\n",
      "2\n",
      "4\n",
      "5\n",
      "6\n"
     ]
    }
   ],
   "source": [
    "# Difference between break and continue statement in Loops???\n",
    "\n",
    "for i in range(7):\n",
    "    if i==3: \n",
    "        continue\n",
    "    print(i)"
   ]
  },
  {
   "cell_type": "code",
   "execution_count": 99,
   "metadata": {},
   "outputs": [
    {
     "data": {
      "text/plain": [
       "dict_values(['Andhra', 'Karnataka', 'UP', 'TN'])"
      ]
     },
     "execution_count": 99,
     "metadata": {},
     "output_type": "execute_result"
    }
   ],
   "source": [
    "# To get a list of all the keys/values in a dictionary?\n",
    "\n",
    "dct = {1:'Andhra',2:'Karnataka',3:'UP',4:'TN'}\n",
    "dct.values()"
   ]
  },
  {
   "cell_type": "code",
   "execution_count": 101,
   "metadata": {},
   "outputs": [
    {
     "data": {
      "text/plain": [
       "True"
      ]
     },
     "execution_count": 101,
     "metadata": {},
     "output_type": "execute_result"
    }
   ],
   "source": [
    "# to check for any value/variable if it is alphanumeric???\n",
    "\n",
    "st = 'Hello123'\n",
    "st.isalnum()"
   ]
  },
  {
   "cell_type": "code",
   "execution_count": 103,
   "metadata": {},
   "outputs": [
    {
     "data": {
      "text/plain": [
       "[7, 6, 5, 4, 3, 2, 1]"
      ]
     },
     "execution_count": 103,
     "metadata": {},
     "output_type": "execute_result"
    }
   ],
   "source": [
    "# How to reverse a list and print it???\n",
    "lst = [1,2,3,4,5,6,7]\n",
    "\n",
    "#for x in lst[::-1]:\n",
    " #   print(x)\n",
    "    \n",
    "\n",
    "lst.reverse()\n",
    "lst"
   ]
  },
  {
   "cell_type": "code",
   "execution_count": 105,
   "metadata": {},
   "outputs": [
    {
     "data": {
      "text/plain": [
       "27"
      ]
     },
     "execution_count": 105,
     "metadata": {},
     "output_type": "execute_result"
    }
   ],
   "source": [
    "# To return from a function???\n",
    "\n",
    "def add(num1,num2):\n",
    "    return num1+num2\n",
    "\n",
    "add(15,12)"
   ]
  },
  {
   "cell_type": "code",
   "execution_count": 108,
   "metadata": {},
   "outputs": [
    {
     "name": "stdout",
     "output_type": "stream",
     "text": [
      "Enter 1st number:12\n",
      "Enter 2nd number:23\n"
     ]
    },
    {
     "data": {
      "text/plain": [
       "35"
      ]
     },
     "execution_count": 108,
     "metadata": {},
     "output_type": "execute_result"
    }
   ],
   "source": [
    "# How do you take input at runtime in Python from the user itself?\n",
    "\n",
    "def add():\n",
    "    num1 = int(input('Enter 1st number:' ))\n",
    "    num2 = int(input('Enter 2nd number:' ))\n",
    "    return num1+num2\n",
    "\n",
    "\n",
    "add()"
   ]
  },
  {
   "cell_type": "code",
   "execution_count": 111,
   "metadata": {},
   "outputs": [
    {
     "data": {
      "text/plain": [
       "[1, 2, 3, 4, 5, 6, 7, 8]"
      ]
     },
     "execution_count": 111,
     "metadata": {},
     "output_type": "execute_result"
    }
   ],
   "source": [
    "# Remove duplicates from a list?\n",
    "\n",
    "lst = [1,2,3,3,4,5,5,5,6,6,7,8,7,6,5]\n",
    "rm_duplst = list(set(lst))\n",
    "rm_duplst"
   ]
  },
  {
   "cell_type": "code",
   "execution_count": 115,
   "metadata": {},
   "outputs": [
    {
     "data": {
      "text/plain": [
       "'Hi we are converting lists into string'"
      ]
     },
     "execution_count": 115,
     "metadata": {},
     "output_type": "execute_result"
    }
   ],
   "source": [
    "# How will you convert a list into a string???\n",
    "\n",
    "lst = ['Hi','we','are','converting','lists', 'into', 'string']\n",
    "st_cnvrtd = ' '.join(lst)\n",
    "st_cnvrtd"
   ]
  },
  {
   "cell_type": "code",
   "execution_count": 117,
   "metadata": {},
   "outputs": [
    {
     "data": {
      "text/plain": [
       "720"
      ]
     },
     "execution_count": 117,
     "metadata": {},
     "output_type": "execute_result"
    }
   ],
   "source": [
    "# What is recursion? when a function in its definition calls itself, this is called recursion.\n",
    "\n",
    "def facto(n):\n",
    "    if n==1 or n ==0: \n",
    "        return 1\n",
    "    else:\n",
    "        return n*facto(n-1)\n",
    "\n",
    "facto(6)"
   ]
  },
  {
   "cell_type": "code",
   "execution_count": 120,
   "metadata": {},
   "outputs": [
    {
     "data": {
      "text/plain": [
       "[1.0,\n",
       " 1.4142135623730951,\n",
       " 1.7320508075688772,\n",
       " 2.0,\n",
       " 2.23606797749979,\n",
       " 2.449489742783178,\n",
       " 2.6457513110645907,\n",
       " 2.8284271247461903,\n",
       " 3.0]"
      ]
     },
     "execution_count": 120,
     "metadata": {},
     "output_type": "execute_result"
    }
   ],
   "source": [
    "# Write a list comprehension to return squares of a number ranging from 1 to 9???\n",
    "\n",
    "lst = [x**(0.5) for x in range(1,10)]\n",
    "lst"
   ]
  },
  {
   "cell_type": "code",
   "execution_count": 121,
   "metadata": {},
   "outputs": [
    {
     "name": "stdout",
     "output_type": "stream",
     "text": [
      "30\n"
     ]
    }
   ],
   "source": [
    "# Write a Lambda expression????\n",
    "#Lambda expressions allow us to create \"anonymous\" functions. \n",
    "#This basically means we can quickly make ad-hoc functions without needing to properly define a function using def.\n",
    "\n",
    "x = lambda a : a * 10\n",
    "print(x(3))"
   ]
  },
  {
   "cell_type": "code",
   "execution_count": 122,
   "metadata": {},
   "outputs": [
    {
     "name": "stdout",
     "output_type": "stream",
     "text": [
      "dlroW olleH\n"
     ]
    }
   ],
   "source": [
    "##Lambda expression for reversing a string: \n",
    "\n",
    "new_s = lambda s: s[::-1]\n",
    "print(new_s('Hello World'))"
   ]
  },
  {
   "cell_type": "code",
   "execution_count": 4,
   "metadata": {},
   "outputs": [
    {
     "name": "stdout",
     "output_type": "stream",
     "text": [
      "20\n"
     ]
    }
   ],
   "source": [
    "# DAY 2: LAMBDA EXPRESSIONS PRACTICE\n",
    "\n",
    "#Lambda expressions are anonymous functions which accepts any number of arguments but only \n",
    "#one expression is evaluated and returned in the result set.\n",
    "\n",
    "#Create a lambda function that adds 15 to a given number passed in as an argument??\n",
    "\n",
    "#SYNTAX: lambda inputvariable:  expected operation as a result\n",
    "\n",
    "x = lambda a: a+15\n",
    "print(x(5))"
   ]
  },
  {
   "cell_type": "code",
   "execution_count": 6,
   "metadata": {},
   "outputs": [
    {
     "name": "stdout",
     "output_type": "stream",
     "text": [
      "70\n"
     ]
    }
   ],
   "source": [
    "#Create a lambda function that multiplies argument num1 with argument num2 and print the result.\n",
    "\n",
    "rslt = lambda num1,num2: num1*num2\n",
    "print(rslt(5,14))"
   ]
  },
  {
   "cell_type": "code",
   "execution_count": 26,
   "metadata": {},
   "outputs": [
    {
     "data": {
      "text/plain": [
       "[('Paper1', 80), ('Paper4', 82), ('Paper2', 90), ('Paper3', 97)]"
      ]
     },
     "execution_count": 26,
     "metadata": {},
     "output_type": "execute_result"
    }
   ],
   "source": [
    "#To Sort a list of tuples using Lambda???\n",
    "\n",
    "marks = [('Paper1', 80), ('Paper2', 90), ('Paper3', 97), ('Paper4', 82)]\n",
    "\n",
    "marks.sort(key = lambda x:x[1])\n",
    "marks\n"
   ]
  },
  {
   "cell_type": "code",
   "execution_count": 27,
   "metadata": {},
   "outputs": [
    {
     "name": "stdout",
     "output_type": "stream",
     "text": [
      "2020-05-10 23:27:35.196620\n",
      "2020\n",
      "5\n",
      "10\n",
      "23:27:35.196620\n"
     ]
    }
   ],
   "source": [
    "# To extract year, month, date and time using Lambda???\n",
    "\n",
    "import datetime as dt\n",
    "\n",
    "curr_dt = dt.datetime.now()\n",
    "print(curr_dt)\n",
    "\n",
    "\n",
    "year = lambda x: x.year               #year extracting\n",
    "month = lambda x: x.month             #month extracting\n",
    "day = lambda x: x.day                 #date extracting\n",
    "t = lambda x: x.time()                #timestamp extracting\n",
    "\n",
    "print(year(curr_dt))\n",
    "print(month(curr_dt))\n",
    "print(day(curr_dt))\n",
    "print(t(curr_dt))"
   ]
  },
  {
   "cell_type": "code",
   "execution_count": 28,
   "metadata": {},
   "outputs": [
    {
     "name": "stdout",
     "output_type": "stream",
     "text": [
      "\n",
      "Even numbers are below:\n",
      "[2, 4, 6, 8, 10]\n",
      "\n",
      "Odd numbers are below:\n",
      "[1, 3, 5, 7, 9]\n"
     ]
    }
   ],
   "source": [
    "#Lambda expression to filter out even and odd numbers from a given List???? Syntax: filter(expression, sequence)\n",
    "\n",
    "lsts = [1, 2, 3, 4, 5, 6, 7, 8, 9, 10]\n",
    "\n",
    "print(\"\\nEven numbers are below:\")\n",
    "even_nums = list(filter(lambda x: x%2 == 0, lsts))\n",
    "print(even_nums)\n",
    "\n",
    "print(\"\\nOdd numbers are below:\")\n",
    "odd_nums = list(filter(lambda x: x%2 != 0, lsts))\n",
    "print(odd_nums)"
   ]
  },
  {
   "cell_type": "code",
   "execution_count": 2,
   "metadata": {},
   "outputs": [
    {
     "name": "stdout",
     "output_type": "stream",
     "text": [
      "['php', 'abc', 'malayalam', 'nitin']\n",
      "\n",
      "Palindromes from above list are below\n",
      "['php', 'malayalam', 'nitin']\n"
     ]
    }
   ],
   "source": [
    "# to check for the string if its palindrome or not???  Syntax: filter(function, sequence)\n",
    "\n",
    "\n",
    "lsts = [\"php\", \"abc\",'malayalam','nitin']\n",
    "print(lsts)\n",
    "\n",
    "result = list(filter(lambda x: x==x[::-1],lsts)) \n",
    "print('\\nPalindromes from above list are below')\n",
    "print(result)"
   ]
  },
  {
   "cell_type": "code",
   "execution_count": null,
   "metadata": {},
   "outputs": [],
   "source": []
  }
 ],
 "metadata": {
  "kernelspec": {
   "display_name": "Python 3",
   "language": "python",
   "name": "python3"
  },
  "language_info": {
   "codemirror_mode": {
    "name": "ipython",
    "version": 3
   },
   "file_extension": ".py",
   "mimetype": "text/x-python",
   "name": "python",
   "nbconvert_exporter": "python",
   "pygments_lexer": "ipython3",
   "version": "3.7.6"
  }
 },
 "nbformat": 4,
 "nbformat_minor": 4
}
