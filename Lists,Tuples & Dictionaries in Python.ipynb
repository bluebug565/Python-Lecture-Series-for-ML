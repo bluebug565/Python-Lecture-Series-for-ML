{
 "cells": [
  {
   "cell_type": "code",
   "execution_count": 45,
   "metadata": {},
   "outputs": [
    {
     "name": "stdout",
     "output_type": "stream",
     "text": [
      "['apple', 'banana', 'guava']\n"
     ]
    },
    {
     "data": {
      "text/plain": [
       "list"
      ]
     },
     "execution_count": 45,
     "metadata": {},
     "output_type": "execute_result"
    }
   ],
   "source": [
    "#Lists in Python:\n",
    "#Lists is a datatype which is mutable(can be modified). Allows duplicate members/values etc.\n",
    "\n",
    "#Example1:\n",
    "#Creating List\n",
    "lst = [\"apple\", \"banana\", 'guava']\n",
    "print(lst)\n",
    "type(lst)"
   ]
  },
  {
   "cell_type": "code",
   "execution_count": 48,
   "metadata": {},
   "outputs": [
    {
     "data": {
      "text/plain": [
       "'banana'"
      ]
     },
     "execution_count": 48,
     "metadata": {},
     "output_type": "execute_result"
    }
   ],
   "source": [
    "#Accessing items in list & Negative Indexing as well??\n",
    "\n",
    "lst[-2]"
   ]
  },
  {
   "cell_type": "code",
   "execution_count": 49,
   "metadata": {},
   "outputs": [
    {
     "data": {
      "text/plain": [
       "['banana', 'guava', 1, 2]"
      ]
     },
     "execution_count": 49,
     "metadata": {},
     "output_type": "execute_result"
    }
   ],
   "source": [
    "#Range of items to be fetched using List Indexing?\n",
    "\n",
    "lst = [\"apple\", \"banana\", 'guava',1,2,3,4,5,6]\n",
    "\n",
    "lst[1:5]  "
   ]
  },
  {
   "cell_type": "code",
   "execution_count": 52,
   "metadata": {},
   "outputs": [
    {
     "data": {
      "text/plain": [
       "['apple', 'banana', 'Mango', 1, 2, 3]"
      ]
     },
     "execution_count": 52,
     "metadata": {},
     "output_type": "execute_result"
    }
   ],
   "source": [
    "#Modifying Lists:\n",
    "\n",
    "lst = [\"apple\", \"banana\", 'guava',1,2,3]\n",
    "lst[2] = 'Mango'\n",
    "lst"
   ]
  },
  {
   "cell_type": "code",
   "execution_count": 53,
   "metadata": {},
   "outputs": [
    {
     "name": "stdout",
     "output_type": "stream",
     "text": [
      "apple\n",
      "banana\n",
      "Mango\n",
      "1\n",
      "2\n",
      "3\n"
     ]
    }
   ],
   "source": [
    "#Looping inside a list:\n",
    "for i in lst:\n",
    "    print(i)"
   ]
  },
  {
   "cell_type": "code",
   "execution_count": 54,
   "metadata": {},
   "outputs": [
    {
     "data": {
      "text/plain": [
       "6"
      ]
     },
     "execution_count": 54,
     "metadata": {},
     "output_type": "execute_result"
    }
   ],
   "source": [
    "#Check length of lists:\n",
    "lst = [\"apple\", \"banana\", 'guava',1,2,6]\n",
    "len(lst)"
   ]
  },
  {
   "cell_type": "code",
   "execution_count": 56,
   "metadata": {},
   "outputs": [
    {
     "data": {
      "text/plain": [
       "['apple', 'banana', 'guava', 1, 2, 6, 7, 7, 'Rahul']"
      ]
     },
     "execution_count": 56,
     "metadata": {},
     "output_type": "execute_result"
    }
   ],
   "source": [
    "#adding items to the list at last:\n",
    "\n",
    "lst.append(7)\n",
    "lst.append('Rahul')\n",
    "lst"
   ]
  },
  {
   "cell_type": "code",
   "execution_count": 57,
   "metadata": {},
   "outputs": [
    {
     "name": "stdout",
     "output_type": "stream",
     "text": [
      "['apple', 'banana', 'grapes', 'guava', 1, 2, 3]\n"
     ]
    }
   ],
   "source": [
    "#adding items to list at specific index:\n",
    "lst = [\"apple\", \"banana\", 'guava',1,2,3]\n",
    "\n",
    "lst.insert(2,'grapes')\n",
    "print(lst)"
   ]
  },
  {
   "cell_type": "code",
   "execution_count": 59,
   "metadata": {},
   "outputs": [
    {
     "data": {
      "text/plain": [
       "['apple', 'guava', 1, 2, 3]"
      ]
     },
     "execution_count": 59,
     "metadata": {},
     "output_type": "execute_result"
    }
   ],
   "source": [
    "#removing items from List:\n",
    "lst = [\"apple\", \"banana\", 'guava',1,2,3]\n",
    "lst.remove('banana')\n",
    "lst\n"
   ]
  },
  {
   "cell_type": "code",
   "execution_count": 60,
   "metadata": {},
   "outputs": [
    {
     "data": {
      "text/plain": [
       "[1, 2, 3, 4, 5, 5, 6, 7, 'a', 'b', 'v', 'Python']"
      ]
     },
     "execution_count": 60,
     "metadata": {},
     "output_type": "execute_result"
    }
   ],
   "source": [
    "#copy entire list:\n",
    "lst = [1,2,3,4,5,5,6,7,'a','b','v','Python']\n",
    "mycopied_lst = lst.copy()\n",
    "mycopied_lst"
   ]
  },
  {
   "cell_type": "code",
   "execution_count": 62,
   "metadata": {},
   "outputs": [
    {
     "data": {
      "text/plain": [
       "['A', 'B', 'C', 'D', 1, 2, 3]"
      ]
     },
     "execution_count": 62,
     "metadata": {},
     "output_type": "execute_result"
    }
   ],
   "source": [
    "#Joining /Concatenating two lists:\n",
    "lst1 = ['A','B','C','D']\n",
    "lst2 = [1,2,3]\n",
    "\n",
    "lst_new = lst1 + lst2\n",
    "lst_new"
   ]
  },
  {
   "cell_type": "code",
   "execution_count": 32,
   "metadata": {},
   "outputs": [
    {
     "name": "stdout",
     "output_type": "stream",
     "text": [
      "Female\n",
      "Others\n"
     ]
    },
    {
     "data": {
      "text/plain": [
       "tuple"
      ]
     },
     "execution_count": 32,
     "metadata": {},
     "output_type": "execute_result"
    }
   ],
   "source": [
    "#Tuples in Python -\n",
    "\n",
    "#A tuple is a collection which is immutable datatype and cannot be modified(updated).\n",
    "#Examples( those set of values which will never have a need to get modified like Gender, Calendar Months etc.)\n",
    "\n",
    "#Creating a tuple.\n",
    "\n",
    "tpl = ('Male','Female','Others')\n",
    "\n",
    "print(tpl[1])                  #accessing items of tuple???\n",
    "\n",
    "print(tpl[-1])                 #Concept of negative Indexing??\n",
    "\n",
    "\n",
    "#Lets'check can we modify tuple???\n",
    "\n",
    "#tpl[1] = 'Not prefer to Mention'\n",
    "\n",
    "type(tpl)                  #Check to confirm datatype of tpl variable???"
   ]
  },
  {
   "cell_type": "code",
   "execution_count": 40,
   "metadata": {},
   "outputs": [
    {
     "name": "stdout",
     "output_type": "stream",
     "text": [
      "6\n"
     ]
    }
   ],
   "source": [
    "#Range of items to access by colon operator???\n",
    "\n",
    "tpl2 = (1,2,3,5,'A','B','B','C','c')\n",
    "tpl2[2:6]\n",
    "\n",
    "#Important Methods widely used in tuples???\n",
    "#print(tpl2.count('C'))\n",
    "print(tpl2.index('B'))"
   ]
  },
  {
   "cell_type": "code",
   "execution_count": 42,
   "metadata": {},
   "outputs": [
    {
     "data": {
      "text/plain": [
       "(1, 2, 3, 5, 'Z', 'B', 'B', 'C', 'c')"
      ]
     },
     "execution_count": 42,
     "metadata": {},
     "output_type": "execute_result"
    }
   ],
   "source": [
    "#Now how to convert a tuple into List\n",
    "#(this is done to modify the tuple when you can't modify it change it to list and then modify and then convert back to tuple???\n",
    "\n",
    "lst_to_tpl = list(tpl2)\n",
    "lst_to_tpl\n",
    "\n",
    "lst_to_tpl[4] = 'Z'\n",
    "tpl2 = tuple(lst_to_tpl)\n",
    "tpl2"
   ]
  },
  {
   "cell_type": "code",
   "execution_count": 43,
   "metadata": {},
   "outputs": [
    {
     "data": {
      "text/plain": [
       "(1, 2, 3, 5, 'Z', 'B', 'B', 'C', 'c', 'Male', 'Female', 'Others')"
      ]
     },
     "execution_count": 43,
     "metadata": {},
     "output_type": "execute_result"
    }
   ],
   "source": [
    "# Removing the tuple completely????\n",
    "\n",
    "#del tpl_t0_lst\n",
    "\n",
    "#print(tpl_t0_lst)\n",
    "\n",
    "\n",
    "#Concatenating tuples??\n",
    "tpl3 = tpl2 + tpl\n",
    "tpl3"
   ]
  },
  {
   "cell_type": "code",
   "execution_count": 45,
   "metadata": {},
   "outputs": [
    {
     "name": "stdout",
     "output_type": "stream",
     "text": [
      "Yes, 'Male' is in the tuple\n"
     ]
    }
   ],
   "source": [
    "#Checking for an item to exist in Tuple???\n",
    "tpl = ('Male','Female','Others')\n",
    "if 'Male' in tpl:\n",
    "    print(\"Yes, 'Male' is in the tuple\")\n",
    "else:\n",
    "    print('Not Present')        "
   ]
  },
  {
   "cell_type": "code",
   "execution_count": 29,
   "metadata": {},
   "outputs": [
    {
     "name": "stdout",
     "output_type": "stream",
     "text": [
      "{}\n"
     ]
    },
    {
     "data": {
      "text/plain": [
       "{'Andhra': 12, 'Karnataka': 15, 'UP': 13}"
      ]
     },
     "execution_count": 29,
     "metadata": {},
     "output_type": "execute_result"
    }
   ],
   "source": [
    "#Dictionaries in Python:\n",
    "\n",
    "#Dictionaries are that datatype which involves storage of values in terms of 'KEY': 'VALUE' pair format.\n",
    "#You can refer/assume them as \"HASHTABLE\" in terms of Data Structures & other Programming Languages. \n",
    "#Here the items are accessed using Keys rather than Indexes hence it is also a unordered collection datatype.\n",
    "\n",
    "\n",
    "#So when should we use a dictionary??\n",
    "#Whenever there is a need to create an attribute where indexing is not mandatory and values can be accessed using related\n",
    "#attribute quickly we should use Dictionaries in those scenarios.!!!!!!!!!\n",
    "#Any type of datatype allowed with Dictionaries...........\n",
    "\n",
    "#Creating Dictionaries:{}\n",
    "\n",
    "dct = {}                    #empty dictionary creation\n",
    "print(dct)\n",
    "\n",
    "dct1 = {'Andhra': 12,'Karnataka': 15,'UP':13}           #Example: Total number of States- Districts easily accessed??\n",
    "dct1"
   ]
  },
  {
   "cell_type": "code",
   "execution_count": 30,
   "metadata": {},
   "outputs": [
    {
     "data": {
      "text/plain": [
       "13"
      ]
     },
     "execution_count": 30,
     "metadata": {},
     "output_type": "execute_result"
    }
   ],
   "source": [
    "#Accessing the dictionary item:\n",
    "\n",
    "dct1['UP']"
   ]
  },
  {
   "cell_type": "code",
   "execution_count": 31,
   "metadata": {},
   "outputs": [
    {
     "data": {
      "text/plain": [
       "{'Andhra': 12, 'Karnataka': 15, 'UP': 15}"
      ]
     },
     "execution_count": 31,
     "metadata": {},
     "output_type": "execute_result"
    }
   ],
   "source": [
    "#Modifying the dictionary:\n",
    "dct1['UP'] = 15\n",
    "dct1"
   ]
  },
  {
   "cell_type": "code",
   "execution_count": 34,
   "metadata": {},
   "outputs": [
    {
     "name": "stdout",
     "output_type": "stream",
     "text": [
      "12\n",
      "15\n",
      "15\n"
     ]
    }
   ],
   "source": [
    "#Looping Inside a Dictionary:\n",
    "\n",
    "#for x in dct1:\n",
    "    #print(dct1[x])                         #Accessing the keys by this but then how to iterate values??? (dct[x])\n",
    "\n",
    "    \n",
    "for x in dct1.values():\n",
    "    print(x)"
   ]
  },
  {
   "cell_type": "code",
   "execution_count": 43,
   "metadata": {},
   "outputs": [
    {
     "name": "stdout",
     "output_type": "stream",
     "text": [
      "{'Andhra': 12, 'Karnataka': 15, 'UP': 13}\n"
     ]
    }
   ],
   "source": [
    "#Length of the dictionary???\n",
    "#print(len(dct1))\n",
    "\n",
    "\n",
    "#Adding more key-values to the dictionary?\n",
    "dct1 = {'Andhra': 12,'Karnataka': 15,'UP':13}\n",
    "\n",
    "#dct1['Haryana'] = 20\n",
    "#dct1\n",
    "\n",
    "\n",
    "#Removing items-pairs from dictionary???\n",
    "#dct1.pop('Karnataka')\n",
    "#dct1               #To completely remove the dictionary which method/function is used find out, mention in comments??\n",
    "\n",
    "\n",
    "#Deleting all the items and converting it into empty dictionary??\n",
    "#dct1.clear()\n",
    "#dct1\n",
    "\n",
    "\n",
    "#Copying the entire dictionary to a newer dictionary???\n",
    "dct_cpd = dct1.copy()\n",
    "print(dct_cpd)"
   ]
  },
  {
   "cell_type": "code",
   "execution_count": 45,
   "metadata": {},
   "outputs": [
    {
     "data": {
      "text/plain": [
       "{'JK': 14, 'Pondicherry': (5, 3), 'TN': [49, 12]}"
      ]
     },
     "execution_count": 45,
     "metadata": {},
     "output_type": "execute_result"
    }
   ],
   "source": [
    "#Dictionaries are flexible in nature, How it can store value as a list ,tuple or even as a dictionary nested in it???\n",
    "#dct2 = {'Kerala':14,'Other States':dct_cpd}       #Nested Dictionary.....\n",
    "#dct2\n",
    "\n",
    "\n",
    "dct3 = {'JK':14,'Pondicherry':(5,3),'TN': [49,12]}\n",
    "dct3"
   ]
  },
  {
   "cell_type": "code",
   "execution_count": null,
   "metadata": {},
   "outputs": [],
   "source": []
  },
  {
   "cell_type": "code",
   "execution_count": null,
   "metadata": {},
   "outputs": [],
   "source": []
  }
 ],
 "metadata": {
  "kernelspec": {
   "display_name": "Python 3",
   "language": "python",
   "name": "python3"
  },
  "language_info": {
   "codemirror_mode": {
    "name": "ipython",
    "version": 3
   },
   "file_extension": ".py",
   "mimetype": "text/x-python",
   "name": "python",
   "nbconvert_exporter": "python",
   "pygments_lexer": "ipython3",
   "version": "3.7.6"
  }
 },
 "nbformat": 4,
 "nbformat_minor": 4
}
