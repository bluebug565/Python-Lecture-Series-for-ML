{
 "cells": [
  {
   "cell_type": "raw",
   "metadata": {},
   "source": [
    "'''\n",
    "NUMPY  (Numerical Python):\n",
    "-------------------------\n",
    "Package of Python which helps in more faster and efficient ways of accessing and performing operations on data stored in a \n",
    "more structured way like in either 2d 3d etc...\n",
    "\n",
    "What it is used for??\n",
    "Mathematical/Logical Operations Performed on the data set stored in the form of Arrays,Vectors & Matrices etc..\n",
    "Statistical Operations like Mean, Median , Standard Deviation and many other Operations can be done through NumPy.\n",
    "\n",
    "How to know whether this Library/Package is installed already or not?\n",
    "type -->  import numpy (#If successfully it is executed then its installed or else you need to install the package.)\n",
    "\n",
    "Start --> TYPE \"Anaconda Prompt\" --> pip install numpy\n",
    "'''\n",
    "\n",
    "#WHY DO WE USE NUMPY LIBRARY????"
   ]
  },
  {
   "cell_type": "code",
   "execution_count": 2,
   "metadata": {},
   "outputs": [
    {
     "data": {
      "text/plain": [
       "list"
      ]
     },
     "execution_count": 2,
     "metadata": {},
     "output_type": "execute_result"
    }
   ],
   "source": [
    "#Example1 : Obtained Marks Calculation\n",
    "\n",
    "pct_marks = [75,55,65,80,95]\n",
    "tot_marks = 500\n",
    "type(pct_marks)"
   ]
  },
  {
   "cell_type": "code",
   "execution_count": 3,
   "metadata": {},
   "outputs": [
    {
     "ename": "TypeError",
     "evalue": "unsupported operand type(s) for /: 'list' and 'int'",
     "output_type": "error",
     "traceback": [
      "\u001b[1;31m---------------------------------------------------------------------------\u001b[0m",
      "\u001b[1;31mTypeError\u001b[0m                                 Traceback (most recent call last)",
      "\u001b[1;32m<ipython-input-3-51014c2369a2>\u001b[0m in \u001b[0;36m<module>\u001b[1;34m\u001b[0m\n\u001b[1;32m----> 1\u001b[1;33m \u001b[0mobt_marks\u001b[0m \u001b[1;33m=\u001b[0m \u001b[1;33m(\u001b[0m\u001b[0mpct_marks\u001b[0m \u001b[1;33m*\u001b[0m \u001b[0mtot_marks\u001b[0m\u001b[1;33m)\u001b[0m\u001b[1;33m/\u001b[0m\u001b[1;36m100\u001b[0m\u001b[1;33m\u001b[0m\u001b[1;33m\u001b[0m\u001b[0m\n\u001b[0m",
      "\u001b[1;31mTypeError\u001b[0m: unsupported operand type(s) for /: 'list' and 'int'"
     ]
    }
   ],
   "source": [
    "obt_marks = (pct_marks * tot_marks)/100"
   ]
  },
  {
   "cell_type": "code",
   "execution_count": 5,
   "metadata": {},
   "outputs": [],
   "source": [
    "import numpy as np\n",
    "\n",
    "pct_marks = [75,55,65,80,95]\n",
    "tot_marks = 500\n",
    "\n",
    "pct_arr = np.array(pct_marks)                       #np.array([])\n",
    "tot_arr = np.array(tot_marks)"
   ]
  },
  {
   "cell_type": "code",
   "execution_count": 6,
   "metadata": {},
   "outputs": [
    {
     "name": "stdout",
     "output_type": "stream",
     "text": [
      "[375. 275. 325. 400. 475.]\n"
     ]
    }
   ],
   "source": [
    "obt_arr = (pct_arr * tot_arr)/100\n",
    "print(obt_arr)"
   ]
  },
  {
   "cell_type": "code",
   "execution_count": 7,
   "metadata": {},
   "outputs": [],
   "source": [
    "#BMI CALCULATION:\n",
    "\n",
    "weight = [65,56,76,45,66]\n",
    "height = [1.5,1.2,1.9,1.0,1.5]"
   ]
  },
  {
   "cell_type": "code",
   "execution_count": 8,
   "metadata": {},
   "outputs": [
    {
     "ename": "TypeError",
     "evalue": "unsupported operand type(s) for ** or pow(): 'list' and 'int'",
     "output_type": "error",
     "traceback": [
      "\u001b[1;31m---------------------------------------------------------------------------\u001b[0m",
      "\u001b[1;31mTypeError\u001b[0m                                 Traceback (most recent call last)",
      "\u001b[1;32m<ipython-input-8-a8226642dc5d>\u001b[0m in \u001b[0;36m<module>\u001b[1;34m\u001b[0m\n\u001b[1;32m----> 1\u001b[1;33m \u001b[0mbmi\u001b[0m \u001b[1;33m=\u001b[0m \u001b[0mweight\u001b[0m\u001b[1;33m/\u001b[0m\u001b[1;33m(\u001b[0m\u001b[0mheight\u001b[0m\u001b[1;33m**\u001b[0m\u001b[1;36m2\u001b[0m\u001b[1;33m)\u001b[0m\u001b[1;33m\u001b[0m\u001b[1;33m\u001b[0m\u001b[0m\n\u001b[0m",
      "\u001b[1;31mTypeError\u001b[0m: unsupported operand type(s) for ** or pow(): 'list' and 'int'"
     ]
    }
   ],
   "source": [
    "bmi = weight/(height**2)"
   ]
  },
  {
   "cell_type": "code",
   "execution_count": 10,
   "metadata": {},
   "outputs": [],
   "source": [
    "import numpy as np\n",
    "\n",
    "weight_arr = np.array([65,56,76,45,66])\n",
    "height_arr = np.array([1.5,1.2,1.9,1.0,1.5])"
   ]
  },
  {
   "cell_type": "code",
   "execution_count": 11,
   "metadata": {},
   "outputs": [
    {
     "name": "stdout",
     "output_type": "stream",
     "text": [
      "[28.89 38.89 21.05 45.   29.33]\n"
     ]
    }
   ],
   "source": [
    "bmi_np = np.round(weight_arr/(height_arr**2),2)\n",
    "print(bmi_np)"
   ]
  },
  {
   "cell_type": "code",
   "execution_count": 12,
   "metadata": {},
   "outputs": [
    {
     "name": "stdout",
     "output_type": "stream",
     "text": [
      "[[1 2 3 4]\n",
      " [5 6 7 8]]\n"
     ]
    }
   ],
   "source": [
    "#Creating first Numpy Array???\n",
    "\n",
    "my_arr = np.array([[1,2,3,4], [5,6,7,8]])\n",
    "print(my_arr)"
   ]
  },
  {
   "cell_type": "code",
   "execution_count": 15,
   "metadata": {},
   "outputs": [
    {
     "data": {
      "text/plain": [
       "numpy.ndarray"
      ]
     },
     "execution_count": 15,
     "metadata": {},
     "output_type": "execute_result"
    }
   ],
   "source": [
    "my_arr1d = np.array([1,2,3,4])                           #1dimension\n",
    "type(my_arr1d)"
   ]
  },
  {
   "cell_type": "code",
   "execution_count": 19,
   "metadata": {},
   "outputs": [
    {
     "name": "stdout",
     "output_type": "stream",
     "text": [
      "<U32\n"
     ]
    }
   ],
   "source": [
    "my_arr2 = np.array([[1.5,1.2,1.6],['A  ','B  ','C  ']])\n",
    "print(my_arr2.dtype)\n",
    "#my_arr2[1][2]"
   ]
  },
  {
   "cell_type": "code",
   "execution_count": 21,
   "metadata": {},
   "outputs": [
    {
     "data": {
      "text/plain": [
       "array([['A', 'B', 'C'],\n",
       "       ['D', 'E', 'F']], dtype='<U1')"
      ]
     },
     "execution_count": 21,
     "metadata": {},
     "output_type": "execute_result"
    }
   ],
   "source": [
    "my_arr2 = np.array([['A','B','C'],['D','E','F']])\n",
    "my_arr2"
   ]
  },
  {
   "cell_type": "code",
   "execution_count": 23,
   "metadata": {},
   "outputs": [
    {
     "name": "stdout",
     "output_type": "stream",
     "text": [
      "[]\n"
     ]
    }
   ],
   "source": [
    "#Creating Empty Numpy Array???\n",
    "\n",
    "empt_arr = np.array([])\n",
    "print(empt_arr)"
   ]
  },
  {
   "cell_type": "code",
   "execution_count": 26,
   "metadata": {},
   "outputs": [
    {
     "data": {
      "text/plain": [
       "array([[1, 1],\n",
       "       [1, 1]])"
      ]
     },
     "execution_count": 26,
     "metadata": {},
     "output_type": "execute_result"
    }
   ],
   "source": [
    "# Create a full array\n",
    "np.full((2,2),1)"
   ]
  },
  {
   "cell_type": "code",
   "execution_count": 29,
   "metadata": {},
   "outputs": [
    {
     "data": {
      "text/plain": [
       "array([[1., 1., 1.],\n",
       "       [1., 1., 1.],\n",
       "       [1., 1., 1.],\n",
       "       [1., 1., 1.]])"
      ]
     },
     "execution_count": 29,
     "metadata": {},
     "output_type": "execute_result"
    }
   ],
   "source": [
    "# Create a ones array\n",
    "np.ones((4,3))"
   ]
  },
  {
   "cell_type": "code",
   "execution_count": 30,
   "metadata": {},
   "outputs": [
    {
     "data": {
      "text/plain": [
       "array([[0., 0.],\n",
       "       [0., 0.]])"
      ]
     },
     "execution_count": 30,
     "metadata": {},
     "output_type": "execute_result"
    }
   ],
   "source": [
    "# Create a zeros array\n",
    "np.zeros((2,2))"
   ]
  },
  {
   "cell_type": "code",
   "execution_count": 32,
   "metadata": {},
   "outputs": [
    {
     "data": {
      "text/plain": [
       "array([10, 15, 20, 25, 30, 35, 40])"
      ]
     },
     "execution_count": 32,
     "metadata": {},
     "output_type": "execute_result"
    }
   ],
   "source": [
    "# Create an array of evenly-spaced values\n",
    "np.arange(10,45,5)"
   ]
  },
  {
   "cell_type": "code",
   "execution_count": 37,
   "metadata": {},
   "outputs": [
    {
     "data": {
      "text/plain": [
       "array([ 0.,  6., 12.])"
      ]
     },
     "execution_count": 37,
     "metadata": {},
     "output_type": "execute_result"
    }
   ],
   "source": [
    "# Create an array of evenly-spaced values\n",
    "np.linspace(0,12,3)"
   ]
  },
  {
   "cell_type": "code",
   "execution_count": 38,
   "metadata": {},
   "outputs": [
    {
     "data": {
      "text/plain": [
       "array([[1., 0., 0.],\n",
       "       [0., 1., 0.],\n",
       "       [0., 0., 1.]])"
      ]
     },
     "execution_count": 38,
     "metadata": {},
     "output_type": "execute_result"
    }
   ],
   "source": [
    "#Create Identity Matrix\n",
    "\n",
    "np.identity(3)"
   ]
  },
  {
   "cell_type": "code",
   "execution_count": 41,
   "metadata": {},
   "outputs": [
    {
     "name": "stdout",
     "output_type": "stream",
     "text": [
      "<class 'numpy.ndarray'>\n",
      "[3. 6. 9.]\n"
     ]
    }
   ],
   "source": [
    "#Load Data Set using Numpy:\n",
    "\n",
    "x,y,z = np.loadtxt('C:\\\\Users\\\\rahul3.tiwari\\\\Desktop\\\\Data.txt',skiprows = 1,unpack = True)\n",
    "print(type(x))\n",
    "print(z)"
   ]
  },
  {
   "cell_type": "code",
   "execution_count": 42,
   "metadata": {},
   "outputs": [],
   "source": [
    "#Saving the Data Set if any in NUMPY:\n",
    "\n",
    "import numpy as np\n",
    "\n",
    "my_dat = np.array([[1.0,2.0,3.0],[4.0,5.0,6.0]])\n",
    "\n",
    "np.savetxt('C:\\\\Users\\\\rahul3.tiwari\\\\Desktop\\\\test.txt', my_dat, delimiter=',')"
   ]
  },
  {
   "cell_type": "code",
   "execution_count": 48,
   "metadata": {},
   "outputs": [
    {
     "name": "stdout",
     "output_type": "stream",
     "text": [
      "Addition:\n",
      "[10 12 11 16]\n",
      "Substraction:\n",
      "[-6 -4 -3  0]\n",
      "Multiplication\n",
      "[16 32 28 64]\n",
      "Division\n",
      "[4.   2.   1.75 1.  ]\n",
      "Remainder\n",
      "[0 0 3 0]\n"
     ]
    }
   ],
   "source": [
    "#Mathematical Operation with Numpy:\n",
    "\n",
    "x =np.array([2,4,4,8])\n",
    "\n",
    "y = np.array([8,8,7,8])\n",
    "\n",
    "print('Addition:')\n",
    "print(np.add(x,y))\n",
    "\n",
    "print('Substraction:')\n",
    "print(np.subtract(x,y))\n",
    "\n",
    "print('Multiplication')\n",
    "print(np.multiply(x,y))\n",
    "\n",
    "print('Division')\n",
    "print(np.divide(y,x))\n",
    "\n",
    "print('Remainder')\n",
    "print(np.remainder(y,x))"
   ]
  },
  {
   "cell_type": "code",
   "execution_count": 51,
   "metadata": {},
   "outputs": [
    {
     "name": "stdout",
     "output_type": "stream",
     "text": [
      "[2 4 4 8]\n"
     ]
    },
    {
     "data": {
      "text/plain": [
       "(array([4, 4]), array([2, 4]))"
      ]
     },
     "execution_count": 51,
     "metadata": {},
     "output_type": "execute_result"
    }
   ],
   "source": [
    "#SLICING in NUMPY similar to Lists???\n",
    "\n",
    "x =np.array([2,4,4,8])\n",
    "print(x)\n",
    "\n",
    "x[1:3], x[0:2]"
   ]
  },
  {
   "cell_type": "code",
   "execution_count": 56,
   "metadata": {},
   "outputs": [
    {
     "name": "stdout",
     "output_type": "stream",
     "text": [
      "[[ 8  9 10 11]\n",
      " [ 4  5  6  7]]\n"
     ]
    },
    {
     "data": {
      "text/plain": [
       "10"
      ]
     },
     "execution_count": 56,
     "metadata": {},
     "output_type": "execute_result"
    }
   ],
   "source": [
    "#INDEXING in NUMPY????\n",
    "\n",
    "y = np.array([[8,9,10,11],[4,5,6,7]])\n",
    "print(y)\n",
    "\n",
    "y[0][2]"
   ]
  },
  {
   "cell_type": "code",
   "execution_count": 57,
   "metadata": {},
   "outputs": [
    {
     "name": "stdout",
     "output_type": "stream",
     "text": [
      "[[10 12 12 16]\n",
      " [ 6 12 12 12]]\n",
      "[[ 6  4  4  0]\n",
      " [ 2  4  4 -4]]\n",
      "[[16 32 32 64]\n",
      " [ 8 32 32 32]]\n",
      "[[4.  2.  2.  1. ]\n",
      " [2.  2.  2.  0.5]]\n",
      "[[0 0 0 0]\n",
      " [0 0 0 4]]\n"
     ]
    }
   ],
   "source": [
    "#BROADCASTING in NUMPY????\n",
    "\n",
    "x =np.array([2,4,4,8])\n",
    "y = np.array([[8,8,8,8],[4,8,8,4]])\n",
    "\n",
    "\n",
    "print(np.add(x,y))\n",
    "\n",
    "print(np.subtract(y,x))\n",
    "\n",
    "print(np.multiply(x,y))\n",
    "\n",
    "print(np.divide(y,x))\n",
    "\n",
    "print(np.remainder(y,x))"
   ]
  },
  {
   "cell_type": "code",
   "execution_count": 59,
   "metadata": {},
   "outputs": [
    {
     "name": "stdout",
     "output_type": "stream",
     "text": [
      "[8 8 8 8]\n"
     ]
    },
    {
     "data": {
      "text/plain": [
       "numpy.ndarray"
      ]
     },
     "execution_count": 59,
     "metadata": {},
     "output_type": "execute_result"
    }
   ],
   "source": [
    "#BOOLEAN INDEXING in NUMPY????\n",
    "\n",
    "x =np.array([2,4,4,8])\n",
    "y = np.array([[8,8,3,2],[4,8,8,4]])\n",
    "\n",
    "z = y[y > 4]\n",
    "print(z)\n",
    "type(z)"
   ]
  },
  {
   "cell_type": "code",
   "execution_count": 61,
   "metadata": {},
   "outputs": [
    {
     "name": "stdout",
     "output_type": "stream",
     "text": [
      "[2 4 4 8 3 4 5 7 6]\n",
      "[2 9 4 4 8 3 4 5 7 6]\n",
      "[2 9 4 4 8 3 4 7 6]\n"
     ]
    }
   ],
   "source": [
    "#Modification/Alteration in NUMPY Arrays???\n",
    "\n",
    "x = np.array([2,4,4,8])\n",
    "x = np.append(x,[3,4,5,7,6])\n",
    "print(x)\n",
    "x = np.insert(x,1,9)\n",
    "print(x)\n",
    "x = np.delete(x,7)\n",
    "print(x)"
   ]
  },
  {
   "cell_type": "code",
   "execution_count": 142,
   "metadata": {},
   "outputs": [
    {
     "name": "stdout",
     "output_type": "stream",
     "text": [
      "79.4\n",
      "Median is : 78.0\n",
      "Standard Deviation is : 7.552483035399682\n",
      "Variance is : 57.04\n",
      "75.75\n"
     ]
    }
   ],
   "source": [
    "#Statistical Operations with Numpy Arrays???\n",
    "\n",
    "std_marks = np.array([65,75,75,78,78,79,78,85,86,95])\n",
    "mean_std = np.mean(std_marks)\n",
    "print(mean_std)\n",
    "\n",
    "median_std = np.median(std_marks)\n",
    "print('Median is : '+str(median_std))\n",
    "\n",
    "stdd = np.std(std_marks)\n",
    "print('Standard Deviation is : '+str(stdd))\n",
    "\n",
    "var = np.var(std_marks)\n",
    "print('Variance is : '+str(var))\n",
    "\n",
    "pct25 = np.percentile(std_marks,25,axis = 0)\n",
    "print(pct25)"
   ]
  },
  {
   "cell_type": "code",
   "execution_count": 62,
   "metadata": {},
   "outputs": [
    {
     "name": "stdout",
     "output_type": "stream",
     "text": [
      "[ 0 10 20 30 40]\n",
      "0\n",
      "10\n",
      "20\n",
      "30\n",
      "40\n"
     ]
    }
   ],
   "source": [
    "#Iterating over Numpy Array???\n",
    "\n",
    "x = np.arange(0,50,10)\n",
    "print(x)\n",
    "\n",
    "\n",
    "for i in np.nditer(x):\n",
    "    print (i)"
   ]
  },
  {
   "cell_type": "code",
   "execution_count": null,
   "metadata": {},
   "outputs": [],
   "source": []
  }
 ],
 "metadata": {
  "kernelspec": {
   "display_name": "Python 3",
   "language": "python",
   "name": "python3"
  },
  "language_info": {
   "codemirror_mode": {
    "name": "ipython",
    "version": 3
   },
   "file_extension": ".py",
   "mimetype": "text/x-python",
   "name": "python",
   "nbconvert_exporter": "python",
   "pygments_lexer": "ipython3",
   "version": "3.7.6"
  }
 },
 "nbformat": 4,
 "nbformat_minor": 4
}
