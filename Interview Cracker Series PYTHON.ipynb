{
 "cells": [
  {
   "cell_type": "code",
   "execution_count": 4,
   "metadata": {},
   "outputs": [
    {
     "name": "stdout",
     "output_type": "stream",
     "text": [
      "Please enter your name?\n",
      "Hello \n",
      "Hey  whether it is Raining out there ?\n",
      "Enjoy your day\n"
     ]
    }
   ],
   "source": [
    "# Scenario 1:\n",
    "\n",
    "'''\n",
    "Check from the user if it is Raining and convert their answer to lower case\n",
    "so it doesn’t matter what case they type it in.\n",
    "\n",
    "If they answer “yes”,ask if it is windy.\n",
    "If they answer “yes” to this second question,display the answer 'It is too windy for an umbrella', \n",
    "otherwise display the message “Take an umbrella”. \n",
    "If they did not answer yes to the first question, display the answer “Enjoy your day”???\n",
    "'''\n",
    "\n",
    "rspns = input(\"Please enter your name?\")\n",
    "print('Hello '+rspns)\n",
    "\n",
    "rspns1 = input('Hey {} whether it is Raining out there ?'.format(rspns))\n",
    "if rspns1.lower() == 'yes':\n",
    "    rspns2 = input('Hey {} whether it is Windy outside? '.format(rspns))\n",
    "    if rspns2.lower() == 'yes':\n",
    "        print('It is too windy for an umbrella')\n",
    "    else:\n",
    "        print('Take an Umbrella')\n",
    "else:\n",
    "    print('Enjoy your day')"
   ]
  },
  {
   "cell_type": "code",
   "execution_count": 6,
   "metadata": {},
   "outputs": [
    {
     "name": "stdout",
     "output_type": "stream",
     "text": [
      "What's your favourite colour? RED\n",
      "I Like red too\n"
     ]
    }
   ],
   "source": [
    "#Scenario 2:\n",
    "\n",
    "'''\n",
    "Check from user for their favourite colour. If they enter “red”, “RED” or\n",
    "“Red” display the message “I like red too”, otherwise display the message\n",
    "“I don’t like [colour], I prefer red”. \n",
    "'''\n",
    "\n",
    "ur_clr = input(\"What's your favourite colour? \")\n",
    "if ur_clr.lower() == 'red':\n",
    "    print('I Like red too')\n",
    "else:\n",
    "    print('I don\\'t like {}, I prefer red'.format(ur_clr.capitalize())) #Note the escape character used to print',  \\'    "
   ]
  },
  {
   "cell_type": "code",
   "execution_count": 8,
   "metadata": {},
   "outputs": [
    {
     "name": "stdout",
     "output_type": "stream",
     "text": [
      "Enter your word to convert in Pig Latin Code :APPLE\n",
      "appleway\n"
     ]
    }
   ],
   "source": [
    "#Scenario 3:\n",
    "\n",
    "'''\n",
    "Pig Latin takes the first alphabet of a word, moves it to the end of the word and adds on an “ay”. \n",
    "If in case a word begins with a vowel you add “way” to the end. For example, pig becomes igpay,\n",
    "banana becomes \"ananabay\", and aadvark becomes \"aadvarkway\". \n",
    "So WAP that will ask the user to enter a word and convert it to Pig Latin and the new word should be in lower case. \n",
    "'''\n",
    "\n",
    "#Pig Latin Notation: PIG --> IGPAY;  APPLE --> APPLEWAY ; BANANA --> ANANABAY\n",
    "\n",
    "\n",
    "st = input('Enter your word to convert in Pig Latin Code :')\n",
    "vwl_lst = ['a','e','i','o','u']                            #vowel list\n",
    "\n",
    "if st.lower()[0] in vwl_lst:                               #check condition\n",
    "    print(st.lower() + \"way\")\n",
    "else:\n",
    "    print(st.lower()[1:] + st.lower()[0]+'ay')\n",
    "\n"
   ]
  },
  {
   "cell_type": "code",
   "execution_count": 14,
   "metadata": {},
   "outputs": [
    {
     "name": "stdout",
     "output_type": "stream",
     "text": [
      "\n",
      "* \n",
      "* * \n",
      "* * * \n",
      "* * * * \n",
      "* * * * * \n",
      "* * * * \n",
      "* * * \n",
      "* * \n",
      "* \n"
     ]
    }
   ],
   "source": [
    "# Scenario 4:\n",
    "#Print the below Pattern as shown:\n",
    "'''\n",
    "*\n",
    "* *\n",
    "* * *\n",
    "* * * *\n",
    "* * * * *\n",
    "* * * *\n",
    "* * *\n",
    "* *\n",
    "*\n",
    "'''\n",
    "\n",
    "#Method1:\n",
    "#lst = [1,2,3,4,5,4,3,2,1]\n",
    "\n",
    "#for i in lst:\n",
    " #   print('* '*i)       #a*5 -> aaaaa\n",
    "\n",
    "\n",
    "#Method2:\n",
    "for i in range(5):\n",
    "    print('* '*i)\n",
    "\n",
    "for i in range(5,0,-1):                #range(1,10,2) --> 1,3,5,7,9              \n",
    "    print('* '*i)\n",
    "    \n"
   ]
  },
  {
   "cell_type": "code",
   "execution_count": 16,
   "metadata": {},
   "outputs": [
    {
     "name": "stdout",
     "output_type": "stream",
     "text": [
      "5\n",
      "4\n",
      "3\n",
      "2\n",
      "1\n"
     ]
    }
   ],
   "source": [
    "for i in range(5,0,-1):\n",
    "    print(i)"
   ]
  },
  {
   "cell_type": "code",
   "execution_count": null,
   "metadata": {},
   "outputs": [
    {
     "name": "stdout",
     "output_type": "stream",
     "text": [
      "Enter the number :34\n",
      "Enter the number :45\n",
      "Enter the number :66\n",
      "do you want to keep last value inserted?YES\n",
      "[34, 45, 66]\n"
     ]
    }
   ],
   "source": [
    "#Scenario 5:\n",
    "'''\n",
    "Create an empty list called \"lsts\".Ask the user to enter numbers.After each number is entered, add it to the end of the lsts \n",
    "list and display the list.\n",
    "\n",
    "Once they have entered three numbers, ask them if they still want the last number they\n",
    "entered saved. If they say “no”, remove the last item from the list.\n",
    "Display the list of numbers. \n",
    "'''\n",
    "\n",
    "lsts = []\n",
    "count = 0\n",
    "\n",
    "while count <= 3:\n",
    "    num = int(input('Enter the number :'))\n",
    "    lsts.append(num)\n",
    "    count = count + 1\n",
    "    #print(lsts)\n",
    "    if len(lsts) ==3:\n",
    "        rp = input('do you want to keep last value inserted?')\n",
    "        if rp.lower() == 'no':\n",
    "            lsts.pop()\n",
    "            print(lsts)\n",
    "        else:\n",
    "            print(lsts)"
   ]
  },
  {
   "cell_type": "code",
   "execution_count": null,
   "metadata": {},
   "outputs": [],
   "source": [
    "#Day-4\n",
    "\n",
    "'''\n",
    "1) All about *args & **kwargs in a function?\n",
    "2) What do you know about iterator protocol?\n",
    "3) Tuple,Lists, Dictionaries Unpacking?\n",
    "4)\n",
    "'''"
   ]
  },
  {
   "cell_type": "code",
   "execution_count": 51,
   "metadata": {},
   "outputs": [],
   "source": [
    "a = {2:'rt',4:'dh',6:'ghf'}\n",
    "b,c,d = a.keys()"
   ]
  },
  {
   "cell_type": "code",
   "execution_count": 52,
   "metadata": {},
   "outputs": [
    {
     "name": "stdout",
     "output_type": "stream",
     "text": [
      "2\n",
      "4\n",
      "6\n"
     ]
    }
   ],
   "source": [
    "print(b)\n",
    "print(c)\n",
    "print(d)"
   ]
  },
  {
   "cell_type": "code",
   "execution_count": 47,
   "metadata": {},
   "outputs": [
    {
     "ename": "TypeError",
     "evalue": "'dict' object is not an iterator",
     "output_type": "error",
     "traceback": [
      "\u001b[1;31m---------------------------------------------------------------------------\u001b[0m",
      "\u001b[1;31mTypeError\u001b[0m                                 Traceback (most recent call last)",
      "\u001b[1;32m<ipython-input-47-94b12d3903f7>\u001b[0m in \u001b[0;36m<module>\u001b[1;34m\u001b[0m\n\u001b[1;32m----> 1\u001b[1;33m \u001b[0mprint\u001b[0m\u001b[1;33m(\u001b[0m\u001b[0mnext\u001b[0m\u001b[1;33m(\u001b[0m\u001b[0ma\u001b[0m\u001b[1;33m)\u001b[0m\u001b[1;33m)\u001b[0m\u001b[1;33m\u001b[0m\u001b[1;33m\u001b[0m\u001b[0m\n\u001b[0m",
      "\u001b[1;31mTypeError\u001b[0m: 'dict' object is not an iterator"
     ]
    }
   ],
   "source": []
  },
  {
   "cell_type": "code",
   "execution_count": null,
   "metadata": {},
   "outputs": [],
   "source": []
  },
  {
   "cell_type": "code",
   "execution_count": null,
   "metadata": {},
   "outputs": [],
   "source": []
  }
 ],
 "metadata": {
  "kernelspec": {
   "display_name": "Python 3",
   "language": "python",
   "name": "python3"
  },
  "language_info": {
   "codemirror_mode": {
    "name": "ipython",
    "version": 3
   },
   "file_extension": ".py",
   "mimetype": "text/x-python",
   "name": "python",
   "nbconvert_exporter": "python",
   "pygments_lexer": "ipython3",
   "version": "3.7.6"
  }
 },
 "nbformat": 4,
 "nbformat_minor": 4
}
