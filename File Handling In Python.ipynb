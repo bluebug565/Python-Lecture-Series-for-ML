{
 "cells": [
  {
   "cell_type": "code",
   "execution_count": 2,
   "metadata": {},
   "outputs": [
    {
     "data": {
      "text/plain": [
       "'C:\\\\Users\\\\rahul3.tiwari\\\\Downloads'"
      ]
     },
     "execution_count": 2,
     "metadata": {},
     "output_type": "execute_result"
    }
   ],
   "source": [
    "import os             #OS module in python provides functions for interacting with the operating system.\n",
    "os.getcwd()"
   ]
  },
  {
   "cell_type": "code",
   "execution_count": 25,
   "metadata": {},
   "outputs": [
    {
     "data": {
      "text/plain": [
       "'C:\\\\Users\\\\rahul3.tiwari\\\\Desktop'"
      ]
     },
     "execution_count": 25,
     "metadata": {},
     "output_type": "execute_result"
    }
   ],
   "source": [
    "os.chdir('C:\\\\Users\\\\rahul3.tiwari\\\\Desktop')    #Changing the directory of ur choice????\n",
    "os.getcwd()"
   ]
  },
  {
   "cell_type": "code",
   "execution_count": 27,
   "metadata": {},
   "outputs": [],
   "source": [
    "#FILE OPENING SYNTAX :    open(File_Path_Name, 'File-Opening/Reading/Writing/Creating MODE')\n",
    "#'r' - Read - Default value. Opens a file for reading, error if the file does not exist\n",
    "#'a' - Append - Opens a file for appending, creates the file if it does not exist and appends from end of the file.\n",
    "#'w' - Write - Opens a file for writing, creates the file if it does not exist and also overrides the content.\n",
    "#'x' - Create - Creates the specified file, returns an error if the file exists. \n",
    "\n",
    "#r+ and w+\n",
    "\n",
    "#Writing in a file:\n",
    "myfile = open('C:\\\\Users\\\\rahul3.tiwari\\\\Desktop\\\\Hello World.txt','w')\n",
    "myfile.write('We are learning File Handling in Python !')\n",
    "myfile.close()"
   ]
  },
  {
   "cell_type": "code",
   "execution_count": 28,
   "metadata": {},
   "outputs": [
    {
     "name": "stdout",
     "output_type": "stream",
     "text": [
      "We are learning\n"
     ]
    }
   ],
   "source": [
    "#Reading a File\n",
    "\n",
    "myfile = open('C:\\\\Users\\\\rahul3.tiwari\\\\Desktop\\\\Hello World.txt','r')\n",
    "print(myfile.read(15))      #Returns first 15 character of the file opening in read mode."
   ]
  },
  {
   "cell_type": "code",
   "execution_count": 29,
   "metadata": {},
   "outputs": [
    {
     "name": "stdout",
     "output_type": "stream",
     "text": [
      "We are learning File Handling in Python !\n"
     ]
    }
   ],
   "source": [
    "#It is best practice to always close the file when you are done with it.\n",
    "\n",
    "myfile = open('C:\\\\Users\\\\rahul3.tiwari\\\\Desktop\\\\Hello World.txt','r')\n",
    "print(myfile.read())  \n",
    "myfile.close()              #Closing the File Opened."
   ]
  },
  {
   "cell_type": "code",
   "execution_count": 30,
   "metadata": {},
   "outputs": [],
   "source": [
    "#Overwriting a File Contents???\n",
    "\n",
    "myfile = open('C:\\\\Users\\\\rahul3.tiwari\\\\Desktop\\\\Hello World.txt','w')\n",
    "myfile.write('We are now overwriting a File Contents!!')\n",
    "myfile.close()"
   ]
  },
  {
   "cell_type": "code",
   "execution_count": 31,
   "metadata": {},
   "outputs": [
    {
     "name": "stdout",
     "output_type": "stream",
     "text": [
      "We are now overwriting a File Contents!!\n",
      "Now the file has been appended!\n"
     ]
    }
   ],
   "source": [
    "myfile = open('C:\\\\Users\\\\rahul3.tiwari\\\\Desktop\\\\Hello World.txt','a')\n",
    "myfile.write('\\nNow the file has been appended!')  \n",
    "myfile.close()\n",
    "\n",
    "\n",
    "#After Appending:\n",
    "\n",
    "myfile = open('C:\\\\Users\\\\rahul3.tiwari\\\\Desktop\\\\Hello World.txt','r')\n",
    "print(myfile.read())  \n",
    "myfile.close()"
   ]
  },
  {
   "cell_type": "code",
   "execution_count": 35,
   "metadata": {},
   "outputs": [],
   "source": [
    "#Method 2 to Read/Write in the file by \"with key-word\":\n",
    "\n",
    "with open('C:\\\\Users\\\\rahul3.tiwari\\\\Desktop\\\\Hello World.txt',mode = 'a') as new_file:\n",
    "    new_file.write('\\nI have again appended in a file')"
   ]
  },
  {
   "cell_type": "code",
   "execution_count": 38,
   "metadata": {},
   "outputs": [],
   "source": [
    "# CREATE MODE - 'x'\n",
    "\n",
    "new_file = open('C:\\\\Users\\\\rahul3.tiwari\\\\Desktop\\\\Hello World2.txt','r')\n",
    "new_file.close()\n"
   ]
  },
  {
   "cell_type": "code",
   "execution_count": 39,
   "metadata": {},
   "outputs": [],
   "source": [
    "# Removing the File :\n",
    "os.remove('C:\\\\Users\\\\rahul3.tiwari\\\\Desktop\\\\Hello World2.txt')"
   ]
  },
  {
   "cell_type": "code",
   "execution_count": null,
   "metadata": {},
   "outputs": [],
   "source": []
  }
 ],
 "metadata": {
  "kernelspec": {
   "display_name": "Python 3",
   "language": "python",
   "name": "python3"
  },
  "language_info": {
   "codemirror_mode": {
    "name": "ipython",
    "version": 3
   },
   "file_extension": ".py",
   "mimetype": "text/x-python",
   "name": "python",
   "nbconvert_exporter": "python",
   "pygments_lexer": "ipython3",
   "version": "3.7.6"
  }
 },
 "nbformat": 4,
 "nbformat_minor": 4
}
