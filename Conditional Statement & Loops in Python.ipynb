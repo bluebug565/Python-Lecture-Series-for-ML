{
 "cells": [
  {
   "cell_type": "markdown",
   "metadata": {},
   "source": [
    "# Logical operators\n",
    "\n",
    "Equals: a == b\n",
    "Not Equals: a != b\n",
    "Less than: a < b\n",
    "Less than or equal to: a <= b\n",
    "Greater than: a > b\n",
    "Greater than or equal to: a >= b"
   ]
  },
  {
   "cell_type": "code",
   "execution_count": 2,
   "metadata": {},
   "outputs": [
    {
     "name": "stdout",
     "output_type": "stream",
     "text": [
      "Welcome to Bangalore!\n"
     ]
    }
   ],
   "source": [
    "#Conditional Statements':\n",
    "#if-else, if-elif-else, if:\n",
    "\n",
    "curr_location = 'Bangalore'\n",
    "\n",
    "\n",
    "if curr_location == 'Bangalore':\n",
    "    print('Welcome to Bangalore!')\n",
    "else:\n",
    "    print(\"Welcome, enter your new Location?\")"
   ]
  },
  {
   "cell_type": "code",
   "execution_count": 4,
   "metadata": {},
   "outputs": [
    {
     "name": "stdout",
     "output_type": "stream",
     "text": [
      "A greater or equals B \n"
     ]
    }
   ],
   "source": [
    "a = 15\n",
    "b = 15\n",
    "\n",
    "if a > b or a == b:\n",
    "    print('A greater or equals B ')\n",
    "else:\n",
    "    print('B greater')"
   ]
  },
  {
   "cell_type": "code",
   "execution_count": 6,
   "metadata": {},
   "outputs": [
    {
     "name": "stdout",
     "output_type": "stream",
     "text": [
      "Welcome please tell your correct name?\n"
     ]
    }
   ],
   "source": [
    "#if-elif-else:  For multiple conditions to validate????\n",
    "\n",
    "person = 'Rahul'\n",
    "\n",
    "if person == 'Aman':\n",
    "    print('Welcome Aman!')\n",
    "    \n",
    "elif person =='CodeML':\n",
    "    print('Welcome CodeML!')\n",
    "    \n",
    "else:\n",
    "    print(\"Welcome please tell your correct name?\")"
   ]
  },
  {
   "cell_type": "code",
   "execution_count": 7,
   "metadata": {},
   "outputs": [
    {
     "name": "stdout",
     "output_type": "stream",
     "text": [
      "1\n",
      "2\n",
      "3\n",
      "4\n"
     ]
    }
   ],
   "source": [
    "# FOR LOOPS:\n",
    "\n",
    "#Example 1:\n",
    "list1 = [1,2,3,4]\n",
    "\n",
    "for x in list1:                 #Iterating thru a list variable datatype\n",
    "    print(x)"
   ]
  },
  {
   "cell_type": "code",
   "execution_count": 8,
   "metadata": {},
   "outputs": [
    {
     "name": "stdout",
     "output_type": "stream",
     "text": [
      "Odd number\n",
      "2\n",
      "Odd number\n",
      "4\n"
     ]
    }
   ],
   "source": [
    "#Example 2: EVEN OR ELSE PRINT ODD NUMBER????\n",
    "\n",
    "list1 = [1,2,3,4]\n",
    "\n",
    "for num in list1:\n",
    "    if num % 2 == 0:\n",
    "        print(num)\n",
    "    else:\n",
    "        print('Odd number')"
   ]
  },
  {
   "cell_type": "code",
   "execution_count": 10,
   "metadata": {},
   "outputs": [
    {
     "name": "stdout",
     "output_type": "stream",
     "text": [
      "H\n",
      "e\n",
      "l\n",
      "l\n",
      "o\n",
      " \n",
      "W\n",
      "o\n",
      "r\n",
      "l\n",
      "d\n",
      "1\n",
      "2\n",
      "3\n"
     ]
    }
   ],
   "source": [
    "#Example 3: Strings iteration????\n",
    "for al in 'Hello World123':\n",
    "    print(al)"
   ]
  },
  {
   "cell_type": "code",
   "execution_count": 12,
   "metadata": {},
   "outputs": [
    {
     "name": "stdout",
     "output_type": "stream",
     "text": [
      "1\n",
      "2\n",
      "3\n",
      "4\n",
      "5\n"
     ]
    }
   ],
   "source": [
    "# WHILE Loops: as long as the condition holds true the loop will get executed.\n",
    "\n",
    "#Example 1:\n",
    "num = 1\n",
    "\n",
    "while num < 6:\n",
    "  print(num)\n",
    "  num += 1                                             #num = num+1"
   ]
  },
  {
   "cell_type": "code",
   "execution_count": 11,
   "metadata": {},
   "outputs": [
    {
     "name": "stdout",
     "output_type": "stream",
     "text": [
      "1\n",
      "2\n",
      "3\n"
     ]
    }
   ],
   "source": [
    "#Example 2:\n",
    "num = 1\n",
    "\n",
    "while num < 6:\n",
    "  print(num)\n",
    "  if num == 3:\n",
    "    break                            #stopping the iteration for a loop\n",
    "  num += 1"
   ]
  },
  {
   "cell_type": "code",
   "execution_count": null,
   "metadata": {},
   "outputs": [],
   "source": []
  },
  {
   "cell_type": "code",
   "execution_count": 14,
   "metadata": {},
   "outputs": [
    {
     "data": {
      "text/plain": [
       "[0, 4, 16, 36, 64, 100]"
      ]
     },
     "execution_count": 14,
     "metadata": {},
     "output_type": "execute_result"
    }
   ],
   "source": [
    "#LIST COMPREHENSION CODE: to check even numbers for a list and print them??\n",
    "\n",
    "#List Comprehension Syntax : [output_expected \"for\" input_variable \"in\" (range, list,tuples etc)...]\n",
    "\n",
    "org_lst = [0,1,2,3,4,5,6,7,8,9,10]\n",
    "\n",
    "lst = [x**2 for x in org_lst if x % 2 == 0]\n",
    "lst"
   ]
  },
  {
   "cell_type": "code",
   "execution_count": null,
   "metadata": {},
   "outputs": [],
   "source": []
  }
 ],
 "metadata": {
  "kernelspec": {
   "display_name": "Python 3",
   "language": "python",
   "name": "python3"
  },
  "language_info": {
   "codemirror_mode": {
    "name": "ipython",
    "version": 3
   },
   "file_extension": ".py",
   "mimetype": "text/x-python",
   "name": "python",
   "nbconvert_exporter": "python",
   "pygments_lexer": "ipython3",
   "version": "3.7.6"
  }
 },
 "nbformat": 4,
 "nbformat_minor": 4
}
